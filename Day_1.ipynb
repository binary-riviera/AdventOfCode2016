{
 "cells": [
  {
   "cell_type": "markdown",
   "id": "c851bb26-3127-43e4-b249-77736638b14d",
   "metadata": {},
   "source": [
    "#  Day 1: No Time for a Taxicab\n",
    "\n",
    "## Part 1:\n",
    "This is a manhattan distance question. We have a list of distances such as `R1` or `L4` which signify turning left or right 90° before walking a certain number of blocks. We then have to calculate how far away from the start we are. "
   ]
  },
  {
   "cell_type": "code",
   "execution_count": 1,
   "id": "ad7c8cc1-6a23-475b-803c-3ed35290f27f",
   "metadata": {},
   "outputs": [
    {
     "name": "stdout",
     "output_type": "stream",
     "text": [
      "['L4', 'L1', 'R4', 'R1']\n"
     ]
    }
   ],
   "source": [
    "from utils import *\n",
    "\n",
    "dirs = read_input_as_list('day1', ', ')\n",
    "head(dirs)"
   ]
  },
  {
   "cell_type": "code",
   "execution_count": 2,
   "id": "3de42718-5569-4ea7-985a-8dca23c7103e",
   "metadata": {},
   "outputs": [
    {
     "data": {
      "text/plain": [
       "279"
      ]
     },
     "execution_count": 2,
     "metadata": {},
     "output_type": "execute_result"
    }
   ],
   "source": [
    "start = (0, 0) # the starting coordinates\n",
    "\n",
    "degrees_to_turn = {\n",
    "    'L': -90,\n",
    "    'R': 90\n",
    "}\n",
    "\n",
    "def normalise(facing):\n",
    "    if facing == -90:\n",
    "        return 270\n",
    "    elif facing == 360:\n",
    "        return 0\n",
    "    return facing\n",
    "\n",
    "def new_coords(loc, facing, ins):\n",
    "    x, y = loc\n",
    "    direction = ins[:1]\n",
    "    blocks = int(ins[1:])\n",
    "    facing = normalise(facing + degrees_to_turn[direction])\n",
    "    \n",
    "    if facing == 0:\n",
    "        y += blocks\n",
    "    elif facing == 90:\n",
    "        x += blocks\n",
    "    elif facing == 180:\n",
    "        y -= blocks\n",
    "    elif facing == 270:\n",
    "        x -= blocks\n",
    "    return ((x, y), facing)\n",
    "\n",
    "\n",
    "def part1(coords, dirs):\n",
    "    facing = 0 # start facing north\n",
    "    for ins in dirs:\n",
    "        coords, facing = new_coords(coords, facing, ins)\n",
    "    x, y = coords\n",
    "\n",
    "    return abs(x) + abs(y)\n",
    "\n",
    "\n",
    "assert part1(start, ['R2', 'L3']) == 5\n",
    "assert part1(start, ['R2', 'R2', 'R2']) == 2\n",
    "assert part1(start, ['R5', 'L5', 'R5', 'R3']) == 12\n",
    "\n",
    "part1(start, dirs)"
   ]
  },
  {
   "cell_type": "markdown",
   "id": "8cd37e84-01a5-4faf-ad4c-d578bd6b4701",
   "metadata": {},
   "source": [
    "Which turned out to be right, although my first answer was wrong due to a type in the normalise function. I dislike how verbose this answer is. I saw that other people are using complex numbers for this but since I never covered those in school, they never came to mind. 😊\n",
    "\n",
    "## Part 2\n",
    "In this part we need to work out what is the first location we visit twice is. Note that this includes locations visited while travelling the blocks. This means we'll need to change the new_coords function."
   ]
  },
  {
   "cell_type": "code",
   "execution_count": 3,
   "id": "052df8d6-d0a6-4f5e-80b8-38a6abf11bc4",
   "metadata": {},
   "outputs": [
    {
     "data": {
      "text/plain": [
       "163"
      ]
     },
     "execution_count": 3,
     "metadata": {},
     "output_type": "execute_result"
    }
   ],
   "source": [
    "def new_coords_2(loc, facing, ins):\n",
    "    x, y = loc\n",
    "    direction = ins[:1]\n",
    "    blocks = int(ins[1:])\n",
    "    facing = normalise(facing + degrees_to_turn[direction])\n",
    "    visited = set()\n",
    "    \n",
    "    if facing == 0:\n",
    "        y += blocks\n",
    "        visited = {(loc[0], loc[1] + y) for y in range(1, blocks + 1)}\n",
    "    elif facing == 90:\n",
    "        x += blocks\n",
    "        visited = {(loc[0] + x, loc[1]) for x in range(1, blocks + 1)}\n",
    "    elif facing == 180:\n",
    "        y -= blocks\n",
    "        visited = {(loc[0], loc[1] - y) for y in range(1, blocks + 1)} \n",
    "    elif facing == 270:\n",
    "        x -= blocks\n",
    "        visited = {(loc[0] - x, loc[1]) for x in range(1, blocks + 1)}\n",
    "    return ((x, y), facing, visited)\n",
    "\n",
    "\n",
    "def part2(coords, dirs):\n",
    "    facing = 0\n",
    "    visited = set()\n",
    "    for ins in dirs:\n",
    "        coords, facing, new_visited = new_coords_2(coords, facing, ins)\n",
    "        if len(new_visited.intersection(visited)) > 0:\n",
    "            (x, y) = new_visited.intersection(visited).pop()\n",
    "            return abs(x) + abs(y)\n",
    "        visited = visited.union(new_visited)\n",
    "        \n",
    "assert part2(start, ['R8', 'R4', 'R4', 'R8']) == 4\n",
    "\n",
    "part2(start, dirs)\n"
   ]
  },
  {
   "cell_type": "markdown",
   "id": "9db415af-16fb-4902-8ae6-ca736b08a148",
   "metadata": {},
   "source": [
    "I really don't like how I'm generating the visited sets but it seemed the easiest way to tack on. Either way, onto the next day..."
   ]
  }
 ],
 "metadata": {
  "kernelspec": {
   "display_name": "Python 3 (ipykernel)",
   "language": "python",
   "name": "python3"
  },
  "language_info": {
   "codemirror_mode": {
    "name": "ipython",
    "version": 3
   },
   "file_extension": ".py",
   "mimetype": "text/x-python",
   "name": "python",
   "nbconvert_exporter": "python",
   "pygments_lexer": "ipython3",
   "version": "3.9.12"
  }
 },
 "nbformat": 4,
 "nbformat_minor": 5
}
