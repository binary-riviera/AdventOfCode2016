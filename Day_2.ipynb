{
 "cells": [
  {
   "cell_type": "markdown",
   "id": "af9b8d73-5fd2-402b-a2d8-ab45e18aa4f0",
   "metadata": {},
   "source": [
    "# Day 2\n",
    "\n",
    "This is a keypad themed question. I took the idea of surrounding the keypad with padding from Peter Norvig, I remember seeing his solution to this a while ago. Shame I can't remember the rest of it\n",
    "\n",
    "## Part 1"
   ]
  },
  {
   "cell_type": "code",
   "execution_count": 1,
   "id": "f315c646-c541-4d68-8a17-b77dbb225d93",
   "metadata": {},
   "outputs": [
    {
     "data": {
      "text/plain": [
       "'LLULLLRLDLLLRLUURDDLRDLDURULRLUULUDDUDDLLLURRLDRRLDRRRLDUDLRDLRRDLLDUDUDUDRLUDUUDLLLRDURUDUULUDLRDUUUDUUDURLDUULLRDLULDUURUDRDDLDRLURLRURRDUURLRLUURURUUULLRLLULRUURLULURDLLRRUDLUDULDRDRLRULUURRDRULLRUUUDLRLDLUURRRURDLUDDRRUDRLUDRDLLLLLRULLDUDRLRRDDULDLRUURRRRRLDLDLRDURDRUUURDLRDDDDULURRRRDUURLULLLDLRULRDULRUDLRRLRDLLRLLLUDDLRDRURDDLLLLDUDRDLRURRDLRDDDLDULDRLRULUUDRRRUUULLLURRDDUULURULDURRLLULLDRURUUULRLRDRRUDRDRRDURRUUUULDRDDDUDLDDURLLRR'"
      ]
     },
     "execution_count": 1,
     "metadata": {},
     "output_type": "execute_result"
    }
   ],
   "source": [
    "from utils import *\n",
    "\n",
    "grid = [\n",
    "    '*****',\n",
    "    '*123*',\n",
    "    '*456*',\n",
    "    '*789*',\n",
    "    '*****'\n",
    "]\n",
    "\n",
    "moves = read_input_as_list('day2', '')\n",
    "moves[0]"
   ]
  },
  {
   "cell_type": "code",
   "execution_count": 2,
   "id": "2e5c039d-a601-4c7a-9367-edaf64b928b3",
   "metadata": {},
   "outputs": [
    {
     "data": {
      "text/plain": [
       "'65556'"
      ]
     },
     "execution_count": 2,
     "metadata": {},
     "output_type": "execute_result"
    }
   ],
   "source": [
    "start_pos = (2, 2)\n",
    "\n",
    "def attempt_move(pos, move):\n",
    "    i, j = pos\n",
    "    if move == 'L':\n",
    "        j -= 1\n",
    "    elif move == 'R':\n",
    "        j += 1\n",
    "    elif move == 'U':\n",
    "        i -= 1\n",
    "    elif move == 'D':\n",
    "        i += 1\n",
    "    if grid[i][j] == '*':\n",
    "        return pos\n",
    "    return (i, j)\n",
    "\n",
    "\n",
    "def next_code(pos, moves):\n",
    "    for move in moves:\n",
    "        pos = attempt_move(pos, move)\n",
    "    return pos, grid[pos[0]][pos[1]]\n",
    "\n",
    "def part1(pos, movesList):\n",
    "    code = ''\n",
    "    for moves in movesList:\n",
    "        pos, char = next_code(pos, moves)\n",
    "        code += char\n",
    "    return code\n",
    "\n",
    "test_moves = [\n",
    "    'ULL',\n",
    "    'RRDDD',\n",
    "    'LURDL',\n",
    "    'UUUUD'\n",
    "]\n",
    "\n",
    "assert part1(start_pos, test_moves) == '1985'\n",
    "\n",
    "part1(start_pos, moves)"
   ]
  },
  {
   "cell_type": "markdown",
   "id": "1d33972b-15b0-4b7a-9065-1ddc995c9359",
   "metadata": {},
   "source": [
    "## Part 2\n",
    "Which is the same but with a different keypad..."
   ]
  },
  {
   "cell_type": "code",
   "execution_count": 3,
   "id": "176738a6-6c48-4046-90c6-2c9404c27468",
   "metadata": {},
   "outputs": [
    {
     "data": {
      "text/plain": [
       "'CB779'"
      ]
     },
     "execution_count": 3,
     "metadata": {},
     "output_type": "execute_result"
    }
   ],
   "source": [
    "grid = [\n",
    "    '*******',\n",
    "    '***1***',\n",
    "    '**234**',\n",
    "    '*56789*',\n",
    "    '**ABC**',\n",
    "    '***D***',\n",
    "    '*******'\n",
    "]\n",
    "\n",
    "start_pos = (3, 1)\n",
    "\n",
    "part1(start_pos, moves)"
   ]
  },
  {
   "cell_type": "code",
   "execution_count": null,
   "id": "f1df221a-8b3c-46fb-84d5-505c7d2610ed",
   "metadata": {},
   "outputs": [],
   "source": []
  }
 ],
 "metadata": {
  "kernelspec": {
   "display_name": "Python 3 (ipykernel)",
   "language": "python",
   "name": "python3"
  },
  "language_info": {
   "codemirror_mode": {
    "name": "ipython",
    "version": 3
   },
   "file_extension": ".py",
   "mimetype": "text/x-python",
   "name": "python",
   "nbconvert_exporter": "python",
   "pygments_lexer": "ipython3",
   "version": "3.9.12"
  }
 },
 "nbformat": 4,
 "nbformat_minor": 5
}
