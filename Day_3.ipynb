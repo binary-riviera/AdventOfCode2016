{
 "cells": [
  {
   "cell_type": "markdown",
   "id": "7e2443e0-1348-4299-a491-61e3bf44a196",
   "metadata": {},
   "source": [
    "# Day 3: Squares With Three Sides\n",
    "This is a triangle themed question apparently, despite the title.\n",
    "\n",
    "## Part 1:\n",
    "\n",
    "> In a valid triangle, the sum of any two sides must be larger than the remaining side. For example, the \"triangle\" given above is impossible, because 5 + 10 is not larger than 25.\n",
    "> In your puzzle input, how many of the listed triangles are possible?"
   ]
  },
  {
   "cell_type": "code",
   "execution_count": 1,
   "id": "d57aabfe-82e4-45d0-807c-a982cc016bde",
   "metadata": {},
   "outputs": [
    {
     "name": "stdout",
     "output_type": "stream",
     "text": [
      "[('4', '21', '894'), ('419', '794', '987'), ('424', '797', '125'), ('651', '305', '558')]\n"
     ]
    }
   ],
   "source": [
    "from utils import *\n",
    "\n",
    "triangles = read_input_as_tuples('day3') # 2 space seperator for some reason\n",
    "head(triangles)"
   ]
  },
  {
   "cell_type": "code",
   "execution_count": 2,
   "id": "77a1248e-242e-4c9c-b2ff-2f7d7ef7162d",
   "metadata": {},
   "outputs": [
    {
     "data": {
      "text/plain": [
       "983"
      ]
     },
     "execution_count": 2,
     "metadata": {},
     "output_type": "execute_result"
    }
   ],
   "source": [
    "def valid_triangle(dims):\n",
    "    x, y, z = dims\n",
    "    x = int(x)\n",
    "    y = int(y)\n",
    "    z = int(z)\n",
    "    return x + y > z and x + z > y and z + y > x\n",
    "\n",
    "assert valid_triangle(('419', '794', '987'))\n",
    "assert not valid_triangle(('4', ' 21', '894'))\n",
    "\n",
    "def part1(possible_triangles):\n",
    "    return len(list(filter(valid_triangle, possible_triangles)))\n",
    "\n",
    "part1(triangles)"
   ]
  },
  {
   "cell_type": "markdown",
   "id": "efd8c892-a383-4b8b-9000-db63796e1fa3",
   "metadata": {},
   "source": [
    "## Part 2:\n",
    "\n",
    "> Now that you've helpfully marked up their design documents, it occurs to you that triangles are specified in groups of three vertically. Each set of three numbers in a column specifies a triangle. Rows are unrelated.\n",
    "\n",
    "I think there's a few ways around this. I'd like to keep the `valid_triangle` function the same, so I need to turn the inputs into the format it will expect. I think a generator function would work here."
   ]
  },
  {
   "cell_type": "code",
   "execution_count": 16,
   "id": "dc4fb00c-419e-4a7f-9314-1d90bf0baaef",
   "metadata": {},
   "outputs": [
    {
     "data": {
      "text/plain": [
       "1836"
      ]
     },
     "execution_count": 16,
     "metadata": {},
     "output_type": "execute_result"
    }
   ],
   "source": [
    "def transpose(x, y, z):\n",
    "    return [\n",
    "        (x[0], y[0], z[0]),\n",
    "        (x[1], y[1], z[1]),\n",
    "        (x[2], y[2], z[2])\n",
    "    ]\n",
    "\n",
    "def possible_triangles_generator(inp):\n",
    "    inp = iter(inp)\n",
    "    while next3 := tuple(islice(inp, 3)):\n",
    "        for tri in transpose(*next3):\n",
    "            yield tri\n",
    "\n",
    "def part2(inp):\n",
    "    return len(list(filter(valid_triangle, possible_triangles_generator(inp))))\n",
    "            \n",
    "            \n",
    "test_inp = [\n",
    "    ('101', '301', '501'),\n",
    "    ('102', '302', '502'),\n",
    "    ('103', '303', '503'),\n",
    "    ('201', '1', '601'),\n",
    "    ('202', '2', '602'),\n",
    "    ('203', '3', '603')\n",
    "]\n",
    "\n",
    "assert part2(test_inp) == 5\n",
    "\n",
    "part2(triangles)"
   ]
  },
  {
   "cell_type": "code",
   "execution_count": null,
   "id": "63dabcc3-8a80-45a2-be09-66e62e9c6ba3",
   "metadata": {},
   "outputs": [],
   "source": []
  }
 ],
 "metadata": {
  "kernelspec": {
   "display_name": "Python 3 (ipykernel)",
   "language": "python",
   "name": "python3"
  },
  "language_info": {
   "codemirror_mode": {
    "name": "ipython",
    "version": 3
   },
   "file_extension": ".py",
   "mimetype": "text/x-python",
   "name": "python",
   "nbconvert_exporter": "python",
   "pygments_lexer": "ipython3",
   "version": "3.9.12"
  }
 },
 "nbformat": 4,
 "nbformat_minor": 5
}
