{
 "cells": [
  {
   "cell_type": "markdown",
   "id": "57b5cb6a-822b-4f04-81d4-0a26e5672396",
   "metadata": {},
   "source": [
    "# Day 4: Security Through Obscurity\n",
    "\n",
    "## Part 1: \n",
    "> Each room consists of an encrypted name (lowercase letters separated by dashes) followed by a dash, a sector ID, and a checksum in square brackets.\n",
    "\n",
    "> A room is real (not a decoy) if the checksum is the five most common letters in the encrypted name, in order, with ties broken by alphabetization."
   ]
  },
  {
   "cell_type": "code",
   "execution_count": 2,
   "id": "7e74c19d-b500-4269-bfa4-d933a654e530",
   "metadata": {},
   "outputs": [
    {
     "name": "stdout",
     "output_type": "stream",
     "text": [
      "['hqcfqwydw-fbqijys-whqii-huiuqhsx-660[qhiwf]', 'oxjmxdfkd-pzxsbkdbo-erkq-ixyloxqlov-913[xodkb]', 'bpvctixr-eaphixr-vgphh-gthtpgrw-947[smrkl]', 'iwcjapey-lhwopey-cnwoo-wymqeoepekj-992[eowpy]']\n"
     ]
    }
   ],
   "source": [
    "from utils import *\n",
    "from collections import Counter\n",
    "\n",
    "rooms_input = read_input_as_list('day4', '')\n",
    "head(rooms_input)"
   ]
  },
  {
   "cell_type": "code",
   "execution_count": 25,
   "id": "cfb4cd8c-11b0-4219-8025-c52fb32ca412",
   "metadata": {},
   "outputs": [
    {
     "data": {
      "text/plain": [
       "245102"
      ]
     },
     "execution_count": 25,
     "metadata": {},
     "output_type": "execute_result"
    }
   ],
   "source": [
    "def get_most_common_chars(chars, n):\n",
    "    dist = Counter(sorted(cat(chars)))\n",
    "    return [t[0] for t in dist.most_common(n)]\n",
    "\n",
    "def room_is_valid(chars, checksum):\n",
    "    common_letters = cat(get_most_common_chars(chars, 5))\n",
    "    return common_letters == checksum\n",
    "\n",
    "assert room_is_valid('aaaaabbbzyx', 'abxyz')\n",
    "assert not room_is_valid('totallyrealroom', 'decoy')\n",
    "\n",
    "def part1(rooms):\n",
    "    sector_id_sum = 0\n",
    "    for room in rooms:\n",
    "        *chars, code = room.split('-')\n",
    "        sector_id, checksum = code.split('[')\n",
    "        checksum = checksum[:-1] # remove the trailing ]\n",
    "        if room_is_valid(chars, checksum):\n",
    "            sector_id_sum += int(sector_id)\n",
    "    return sector_id_sum\n",
    "\n",
    "assert part1(['aaaaa-bbb-z-y-x-123[abxyz]']) == 123 \n",
    "\n",
    "part1(rooms_input)"
   ]
  },
  {
   "cell_type": "markdown",
   "id": "407fc45e-e4de-445d-b47d-77800e575d37",
   "metadata": {},
   "source": [
    "## Part 2\n",
    "\n",
    "> The room names are encrypted by a state-of-the-art shift cipher, which is nearly unbreakable without the right software. However, the information kiosk designers at Easter Bunny HQ were not expecting to deal with a master cryptographer like yourself.\n",
    "\n",
    "> To decrypt a room name, rotate each letter forward through the alphabet a number of times equal to the room's sector ID. A becomes B, B becomes C, Z becomes A, and so on. Dashes become spaces.\n",
    "\n",
    "The success condition is described as being:\n",
    ">What is the sector ID of the room where North Pole objects are stored?\n",
    "\n",
    "Which is a little confusing, but maybe it'll be clearer after implementing the decryption function. The encryption function is essentially `rot_n`, which should be straightforward. This is good opportunity to use the `transform` and `maketrans` methods in `str` as well."
   ]
  },
  {
   "cell_type": "code",
   "execution_count": 43,
   "id": "ccbb09b4-0a5f-4afd-b680-ebf81b003036",
   "metadata": {},
   "outputs": [
    {
     "name": "stdout",
     "output_type": "stream",
     "text": [
      "324\n"
     ]
    }
   ],
   "source": [
    "import string\n",
    "\n",
    "def rot_n(rot):\n",
    "    rot = rot % 26\n",
    "    letters = string.ascii_lowercase # only care about lowercase letters here\n",
    "    tt =  str.maketrans(letters, letters[rot:] + letters[:rot]) # construct the lookup table \n",
    "    return lambda s: s.translate(tt) \n",
    "    \n",
    "assert rot_n(343)('qzmt') == 'very'\n",
    "\n",
    "def decrypt_room(strings, rot):\n",
    "    return list(map(rot_n(rot), strings))\n",
    "\n",
    "assert decrypt_room(['qzmt', 'zixmtkozy', 'ivhz'], 343) == ['very', 'encrypted', 'name']\n",
    "\n",
    "def part2(rooms):\n",
    "    for room in rooms:\n",
    "        *chars, code = room.split('-')\n",
    "        sector_id, checksum = code.split('[')\n",
    "        checksum = checksum[:-1] # remove the trailing ]\n",
    "        if room_is_valid(chars, checksum):\n",
    "            if 'northpole' in decrypt_room(chars, int(sector_id)):\n",
    "                print(sector_id)\n",
    "\n",
    "part2(rooms_input)"
   ]
  },
  {
   "cell_type": "markdown",
   "id": "291dd928-7c08-48d1-99e1-d5adc9be6d51",
   "metadata": {},
   "source": [
    "I still don't really get how I was supposed to know the exact string was `northpole`. I just printed all of them then searched for the string `north`. Still, a win is a win."
   ]
  }
 ],
 "metadata": {
  "kernelspec": {
   "display_name": "Python 3 (ipykernel)",
   "language": "python",
   "name": "python3"
  },
  "language_info": {
   "codemirror_mode": {
    "name": "ipython",
    "version": 3
   },
   "file_extension": ".py",
   "mimetype": "text/x-python",
   "name": "python",
   "nbconvert_exporter": "python",
   "pygments_lexer": "ipython3",
   "version": "3.9.12"
  }
 },
 "nbformat": 4,
 "nbformat_minor": 5
}
