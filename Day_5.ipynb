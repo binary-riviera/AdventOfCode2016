{
 "cells": [
  {
   "cell_type": "markdown",
   "id": "5da73727-d47e-4829-9e5a-b889234fa7b7",
   "metadata": {
    "tags": []
   },
   "source": [
    "# Day 5: How About a Nice Game of Chess?\n",
    "\n",
    "Title to the contrary, this is actually about MD5 hashing not chess.\n",
    "\n",
    "## Part 1:\n",
    "Just the one string as input this time. Description as follows:\n",
    "\n",
    "> The eight-character password for the door is generated one character at a time by finding the MD5 hash of some Door ID (your puzzle input) and an increasing integer index (starting with 0).\n",
    "\n",
    "> A hash indicates the next character in the password if its hexadecimal representation starts with five zeroes. If it does, the sixth character in the hash is the next character of the password."
   ]
  },
  {
   "cell_type": "code",
   "execution_count": 7,
   "id": "b34ef352-0554-48dd-b675-49a84adb0a02",
   "metadata": {},
   "outputs": [
    {
     "data": {
      "text/plain": [
       "'c6697b55'"
      ]
     },
     "execution_count": 7,
     "metadata": {},
     "output_type": "execute_result"
    }
   ],
   "source": [
    "from hashlib import md5 \n",
    "from utils import *\n",
    "\n",
    "def part1(init: str): # I couldn't get this to work as a generator for some reason...\n",
    "    password = ''\n",
    "    index = 0\n",
    "    while True:\n",
    "        hsh = md5((init + str(index)).encode()).hexdigest()\n",
    "        if hsh[:5] == '00000':\n",
    "            password += hsh[5]\n",
    "            if len(password) == 8:\n",
    "                return password\n",
    "        index += 1\n",
    "\n",
    "assert part1('abc') == '18f47a30'\n",
    "\n",
    "part1('ffykfhsq')"
   ]
  },
  {
   "cell_type": "markdown",
   "id": "7765a2f3-dac6-4a1a-a623-57d2d7d74a66",
   "metadata": {},
   "source": [
    "## Part 2\n",
    "Updated:\n",
    "\n",
    "> Instead of simply filling in the password from left to right, the hash now also indicates the position within the password to fill. You still look for hashes that begin with five zeroes; however, now, the sixth character represents the position (0-7), and the seventh character is the character to put in that position.\n",
    "\n",
    "> A hash result of 000001f means that f is the second character in the password. Use only the first result for each position, and ignore invalid positions."
   ]
  },
  {
   "cell_type": "code",
   "execution_count": 8,
   "id": "eb15512e-0863-4761-8163-984970fc63b3",
   "metadata": {},
   "outputs": [
    {
     "name": "stdout",
     "output_type": "stream",
     "text": [
      "[' ', ' ', ' ', ' ', ' ', ' ', 'a', ' ']\n",
      "[' ', ' ', ' ', ' ', ' ', ' ', 'a', 'b']\n",
      "[' ', ' ', ' ', ' ', ' ', '1', 'a', 'b']\n",
      "['8', ' ', ' ', ' ', ' ', '1', 'a', 'b']\n",
      "['8', ' ', ' ', '5', ' ', '1', 'a', 'b']\n",
      "['8', 'c', ' ', '5', ' ', '1', 'a', 'b']\n",
      "['8', 'c', ' ', '5', 'd', '1', 'a', 'b']\n",
      "['8', 'c', '3', '5', 'd', '1', 'a', 'b']\n"
     ]
    },
    {
     "data": {
      "text/plain": [
       "'8c35d1ab'"
      ]
     },
     "execution_count": 8,
     "metadata": {},
     "output_type": "execute_result"
    }
   ],
   "source": [
    "def part2(init: str):\n",
    "    password = [' '] * 8\n",
    "    index = 0\n",
    "    while True:\n",
    "        hsh = md5((init + str(index)).encode()).hexdigest()\n",
    "        if hsh[:5] == '00000':\n",
    "            try:\n",
    "                pos = int(hsh[5])\n",
    "                if pos <= 7 and password[pos] == ' ':\n",
    "                    password[pos] = hsh[6]\n",
    "                    print(password)\n",
    "                if ' ' not in password:\n",
    "                    return password\n",
    "            except ValueError:\n",
    "                pass\n",
    "        index += 1\n",
    "\n",
    "cat(part2('ffykfhsq'))"
   ]
  },
  {
   "cell_type": "markdown",
   "id": "d551d773-25d3-46da-91ea-6e16a0898871",
   "metadata": {},
   "source": [
    "Bit of a slog this one, and I don't think this was the optimal solution. Still, a solution it is..."
   ]
  }
 ],
 "metadata": {
  "kernelspec": {
   "display_name": "Python 3 (ipykernel)",
   "language": "python",
   "name": "python3"
  },
  "language_info": {
   "codemirror_mode": {
    "name": "ipython",
    "version": 3
   },
   "file_extension": ".py",
   "mimetype": "text/x-python",
   "name": "python",
   "nbconvert_exporter": "python",
   "pygments_lexer": "ipython3",
   "version": "3.9.12"
  }
 },
 "nbformat": 4,
 "nbformat_minor": 5
}
