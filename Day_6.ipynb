{
 "cells": [
  {
   "cell_type": "markdown",
   "id": "a46219aa-057a-45ab-83ef-ed8a4b884571",
   "metadata": {},
   "source": [
    "# Day 6: Signals and Noise\n",
    "\n",
    "## Part 1:\n",
    "> All you need to do is figure out which character is most frequent for each position.\n",
    "\n",
    "Where each position is a column in the list of inputs. I guess we don't need to read the entire file here, we can just keep *n* Counter objects, and update them row by row?"
   ]
  },
  {
   "cell_type": "code",
   "execution_count": 11,
   "id": "266e2a6f-c3de-4a4c-b9ab-b8c8ffa48c52",
   "metadata": {},
   "outputs": [
    {
     "name": "stdout",
     "output_type": "stream",
     "text": [
      "wkbvmikb"
     ]
    }
   ],
   "source": [
    "from utils import *\n",
    "from collections import Counter\n",
    "\n",
    "def get_column_counts(inp):\n",
    "    column_counters = [\n",
    "        Counter(c) for c in next(inp).strip()\n",
    "    ]\n",
    "    for line in inp:\n",
    "        for i, c in enumerate(line.strip()):\n",
    "            column_counters[i].update(c)\n",
    "    return column_counters\n",
    "    \n",
    "def part1():\n",
    "    counts = get_column_counts(read_input_as_file('day6'))\n",
    "    for count in counts:\n",
    "        print(count.most_common(1)[0][0], end='')\n",
    "\n",
    "part1()"
   ]
  },
  {
   "cell_type": "markdown",
   "id": "e09ae821-299f-446b-a72f-6c5a027fd01b",
   "metadata": {},
   "source": [
    "## Part 2:\n",
    "\n",
    "This is the same as the above but the least common letter instead. Keeping the counter objects around should make this a breeze."
   ]
  },
  {
   "cell_type": "code",
   "execution_count": 19,
   "id": "f4c123cb-3c88-400d-8eeb-89e853a6530c",
   "metadata": {},
   "outputs": [
    {
     "name": "stdout",
     "output_type": "stream",
     "text": [
      "[('w', 25), ('u', 24), ('r', 24), ('j', 24), ('s', 24), ('c', 24), ('i', 24), ('a', 24), ('k', 24), ('g', 24), ('q', 24), ('t', 24), ('n', 24), ('d', 24), ('h', 24), ('f', 24), ('v', 24), ('o', 24), ('y', 24), ('m', 24), ('x', 24), ('b', 24), ('p', 24), ('l', 24), ('z', 24), ('e', 23)]\n",
      "[('k', 25), ('f', 24), ('r', 24), ('o', 24), ('s', 24), ('n', 24), ('i', 24), ('l', 24), ('w', 24), ('c', 24), ('x', 24), ('j', 24), ('h', 24), ('a', 24), ('z', 24), ('u', 24), ('p', 24), ('y', 24), ('m', 24), ('g', 24), ('t', 24), ('b', 24), ('q', 24), ('e', 24), ('d', 24), ('v', 23)]\n",
      "[('b', 25), ('l', 24), ('d', 24), ('w', 24), ('k', 24), ('n', 24), ('t', 24), ('s', 24), ('g', 24), ('u', 24), ('q', 24), ('x', 24), ('j', 24), ('m', 24), ('f', 24), ('y', 24), ('e', 24), ('p', 24), ('o', 24), ('v', 24), ('h', 24), ('c', 24), ('r', 24), ('z', 24), ('i', 24), ('a', 23)]\n",
      "[('v', 25), ('e', 24), ('d', 24), ('n', 24), ('c', 24), ('g', 24), ('t', 24), ('p', 24), ('q', 24), ('s', 24), ('x', 24), ('i', 24), ('l', 24), ('m', 24), ('r', 24), ('w', 24), ('a', 24), ('h', 24), ('z', 24), ('y', 24), ('o', 24), ('b', 24), ('f', 24), ('u', 24), ('j', 24), ('k', 23)]\n",
      "[('m', 25), ('v', 24), ('g', 24), ('y', 24), ('o', 24), ('r', 24), ('x', 24), ('b', 24), ('d', 24), ('l', 24), ('u', 24), ('f', 24), ('a', 24), ('z', 24), ('q', 24), ('k', 24), ('p', 24), ('j', 24), ('c', 24), ('h', 24), ('n', 24), ('i', 24), ('s', 24), ('e', 24), ('t', 24), ('w', 23)]\n",
      "[('i', 25), ('q', 24), ('r', 24), ('e', 24), ('u', 24), ('v', 24), ('b', 24), ('l', 24), ('z', 24), ('t', 24), ('x', 24), ('n', 24), ('g', 24), ('j', 24), ('p', 24), ('c', 24), ('h', 24), ('m', 24), ('o', 24), ('d', 24), ('y', 24), ('f', 24), ('k', 24), ('s', 24), ('w', 24), ('a', 23)]\n",
      "[('k', 25), ('w', 24), ('l', 24), ('a', 24), ('m', 24), ('j', 24), ('v', 24), ('r', 24), ('x', 24), ('u', 24), ('f', 24), ('o', 24), ('y', 24), ('t', 24), ('z', 24), ('n', 24), ('e', 24), ('b', 24), ('q', 24), ('s', 24), ('p', 24), ('c', 24), ('d', 24), ('h', 24), ('i', 24), ('g', 23)]\n",
      "[('b', 25), ('k', 24), ('h', 24), ('q', 24), ('t', 24), ('v', 24), ('l', 24), ('y', 24), ('o', 24), ('m', 24), ('d', 24), ('w', 24), ('p', 24), ('x', 24), ('s', 24), ('g', 24), ('j', 24), ('e', 24), ('i', 24), ('r', 24), ('f', 24), ('u', 24), ('n', 24), ('c', 24), ('z', 24), ('a', 23)]\n"
     ]
    }
   ],
   "source": [
    "def part2():\n",
    "    counts = get_column_counts(read_input_as_file('day6'))\n",
    "    for count in counts:\n",
    "        #print(count.most_common()[-2:-1], end='')\n",
    "        print(count.most_common())\n",
    "\n",
    "part2()"
   ]
  },
  {
   "cell_type": "code",
   "execution_count": null,
   "id": "cba6f670-1296-49da-bfd9-f90882d3aa2f",
   "metadata": {},
   "outputs": [],
   "source": []
  }
 ],
 "metadata": {
  "kernelspec": {
   "display_name": "Python 3 (ipykernel)",
   "language": "python",
   "name": "python3"
  },
  "language_info": {
   "codemirror_mode": {
    "name": "ipython",
    "version": 3
   },
   "file_extension": ".py",
   "mimetype": "text/x-python",
   "name": "python",
   "nbconvert_exporter": "python",
   "pygments_lexer": "ipython3",
   "version": "3.9.12"
  }
 },
 "nbformat": 4,
 "nbformat_minor": 5
}
