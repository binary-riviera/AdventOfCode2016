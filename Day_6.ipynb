{
 "cells": [
  {
   "cell_type": "markdown",
   "id": "a46219aa-057a-45ab-83ef-ed8a4b884571",
   "metadata": {},
   "source": [
    "# Day 6: Signals and Noise\n",
    "\n",
    "## Part 1:\n",
    "> All you need to do is figure out which character is most frequent for each position.\n",
    "\n",
    "Where each position is a column in the list of inputs. I guess we don't need to read the entire file here, we can just keep *n* Counter objects, and update them row by row?"
   ]
  },
  {
   "cell_type": "code",
   "execution_count": 11,
   "id": "266e2a6f-c3de-4a4c-b9ab-b8c8ffa48c52",
   "metadata": {},
   "outputs": [
    {
     "name": "stdout",
     "output_type": "stream",
     "text": [
      "wkbvmikb"
     ]
    }
   ],
   "source": [
    "from utils import *\n",
    "from collections import Counter\n",
    "\n",
    "def get_column_counts(inp):\n",
    "    column_counters = [\n",
    "        Counter(c) for c in next(inp).strip()\n",
    "    ]\n",
    "    for line in inp:\n",
    "        for i, c in enumerate(line.strip()):\n",
    "            column_counters[i].update(c)\n",
    "    return column_counters\n",
    "    \n",
    "def part1():\n",
    "    counts = get_column_counts(read_input_as_file('day6'))\n",
    "    for count in counts:\n",
    "        print(count.most_common(1)[0][0], end='')\n",
    "\n",
    "part1()"
   ]
  },
  {
   "cell_type": "markdown",
   "id": "e09ae821-299f-446b-a72f-6c5a027fd01b",
   "metadata": {},
   "source": [
    "## Part 2:\n",
    "\n",
    "This is the same as the above but the least common letter instead. Keeping the counter objects around should make this a breeze."
   ]
  },
  {
   "cell_type": "code",
   "execution_count": 21,
   "id": "f4c123cb-3c88-400d-8eeb-89e853a6530c",
   "metadata": {},
   "outputs": [
    {
     "name": "stdout",
     "output_type": "stream",
     "text": [
      "evakwaga"
     ]
    }
   ],
   "source": [
    "def part2():\n",
    "    counts = get_column_counts(read_input_as_file('day6'))\n",
    "    for count in counts:\n",
    "        print(count.most_common()[-1][0], end='')\n",
    "\n",
    "part2()"
   ]
  },
  {
   "cell_type": "markdown",
   "id": "7638c1ca-0d66-42ab-905e-d611db85d21b",
   "metadata": {},
   "source": [
    "Nice and easy 🙂"
   ]
  }
 ],
 "metadata": {
  "kernelspec": {
   "display_name": "Python 3 (ipykernel)",
   "language": "python",
   "name": "python3"
  },
  "language_info": {
   "codemirror_mode": {
    "name": "ipython",
    "version": 3
   },
   "file_extension": ".py",
   "mimetype": "text/x-python",
   "name": "python",
   "nbconvert_exporter": "python",
   "pygments_lexer": "ipython3",
   "version": "3.9.12"
  }
 },
 "nbformat": 4,
 "nbformat_minor": 5
}
