{
 "cells": [
  {
   "cell_type": "markdown",
   "id": "a258f1aa-b000-44f4-b74f-c9ffe76aecaa",
   "metadata": {},
   "source": [
    "# Day 7\n",
    "\n",
    "Seems to be a text parsing question, so I guess time to brush up on regular expressions.\n",
    "## Part 1:\n",
    "> An IP supports TLS if it has an Autonomous Bridge Bypass Annotation, or ABBA. An ABBA is any four-character sequence which consists of a pair of two different characters followed by the reverse of that pair, such as xyyx or abba. However, the IP also must not have an ABBA within any hypernet sequences, which are contained by square brackets."
   ]
  },
  {
   "cell_type": "code",
   "execution_count": 4,
   "id": "c1ebffe9-c032-4ab9-ae45-119bef4b81d7",
   "metadata": {},
   "outputs": [
    {
     "name": "stdout",
     "output_type": "stream",
     "text": [
      "['dnwtsgywerfamfv[gwrhdujbiowtcirq]bjbhmuxdcasenlctwgh', 'rnqfzoisbqxbdlkgfh[lwlybvcsiupwnsyiljz]kmbgyaptjcsvwcltrdx[ntrpwgkrfeljpye]jxjdlgtntpljxaojufe', 'jgltdnjfjsbrffzwbv[nclpjchuobdjfrpavcq]sbzanvbimpahadkk[yyoasqmddrzunoyyk]knfdltzlirrbypa', 'vvrchszuidkhtwx[ebqaetowcthddea]cxgxbffcoudllbtxsa']\n"
     ]
    }
   ],
   "source": [
    "from utils import *\n",
    "import re\n",
    "\n",
    "inp = read_input_as_list('day7', '')\n",
    "head(inp)"
   ]
  },
  {
   "cell_type": "code",
   "execution_count": 5,
   "id": "fd3763fc-3922-4dba-bfe8-188ad51a1128",
   "metadata": {},
   "outputs": [
    {
     "name": "stdout",
     "output_type": "stream",
     "text": [
      "abba[mnop]qrst\n",
      "abcd[bddb]xyyx\n",
      "aaaa[qwer]tyui\n",
      "ioxxoj[asdfgh]zxcvbn\n",
      "dnwtsgywerfamfv[gwrhdujbiowtcirq]bjbhmuxdcasenlctwgh\n",
      "rnqfzoisbqxbdlkgfh[lwlybvcsiupwnsyiljz]kmbgyaptjcsvwcltrdx[ntrpwgkrfeljpye]jxjdlgtntpljxaojufe\n"
     ]
    },
    {
     "ename": "ValueError",
     "evalue": "too many values to unpack (expected 3)",
     "output_type": "error",
     "traceback": [
      "\u001b[0;31m---------------------------------------------------------------------------\u001b[0m",
      "\u001b[0;31mValueError\u001b[0m                                Traceback (most recent call last)",
      "Cell \u001b[0;32mIn[5], line 16\u001b[0m\n\u001b[1;32m     13\u001b[0m \u001b[38;5;28;01massert\u001b[39;00m \u001b[38;5;129;01mnot\u001b[39;00m supports_tls(\u001b[38;5;124m'\u001b[39m\u001b[38;5;124maaaa[qwer]tyui\u001b[39m\u001b[38;5;124m'\u001b[39m)\n\u001b[1;32m     14\u001b[0m \u001b[38;5;28;01massert\u001b[39;00m supports_tls(\u001b[38;5;124m'\u001b[39m\u001b[38;5;124mioxxoj[asdfgh]zxcvbn\u001b[39m\u001b[38;5;124m'\u001b[39m)\n\u001b[0;32m---> 16\u001b[0m \u001b[38;5;28msum\u001b[39m([\u001b[38;5;241m1\u001b[39m \u001b[38;5;28;01mfor\u001b[39;00m ip \u001b[38;5;129;01min\u001b[39;00m inp \u001b[38;5;28;01mif\u001b[39;00m supports_tls(ip)])\n",
      "Cell \u001b[0;32mIn[5], line 16\u001b[0m, in \u001b[0;36m<listcomp>\u001b[0;34m(.0)\u001b[0m\n\u001b[1;32m     13\u001b[0m \u001b[38;5;28;01massert\u001b[39;00m \u001b[38;5;129;01mnot\u001b[39;00m supports_tls(\u001b[38;5;124m'\u001b[39m\u001b[38;5;124maaaa[qwer]tyui\u001b[39m\u001b[38;5;124m'\u001b[39m)\n\u001b[1;32m     14\u001b[0m \u001b[38;5;28;01massert\u001b[39;00m supports_tls(\u001b[38;5;124m'\u001b[39m\u001b[38;5;124mioxxoj[asdfgh]zxcvbn\u001b[39m\u001b[38;5;124m'\u001b[39m)\n\u001b[0;32m---> 16\u001b[0m \u001b[38;5;28msum\u001b[39m([\u001b[38;5;241m1\u001b[39m \u001b[38;5;28;01mfor\u001b[39;00m ip \u001b[38;5;129;01min\u001b[39;00m inp \u001b[38;5;28;01mif\u001b[39;00m \u001b[43msupports_tls\u001b[49m\u001b[43m(\u001b[49m\u001b[43mip\u001b[49m\u001b[43m)\u001b[49m])\n",
      "Cell \u001b[0;32mIn[5], line 6\u001b[0m, in \u001b[0;36msupports_tls\u001b[0;34m(ip)\u001b[0m\n\u001b[1;32m      4\u001b[0m \u001b[38;5;28;01mdef\u001b[39;00m \u001b[38;5;21msupports_tls\u001b[39m(ip):\n\u001b[1;32m      5\u001b[0m     \u001b[38;5;28mprint\u001b[39m(ip)\n\u001b[0;32m----> 6\u001b[0m     ip1, hypernet, ip2 \u001b[38;5;241m=\u001b[39m re\u001b[38;5;241m.\u001b[39msplit(\u001b[38;5;124m'\u001b[39m\u001b[38;5;124m\\\u001b[39m\u001b[38;5;124mW+\u001b[39m\u001b[38;5;124m'\u001b[39m, ip)\n\u001b[1;32m      7\u001b[0m     ip_valid \u001b[38;5;241m=\u001b[39m re\u001b[38;5;241m.\u001b[39msearch(re_abba, ip1) \u001b[38;5;129;01mor\u001b[39;00m re\u001b[38;5;241m.\u001b[39msearch(re_abba, ip2)\n\u001b[1;32m      8\u001b[0m     hypernet_valid \u001b[38;5;241m=\u001b[39m \u001b[38;5;129;01mnot\u001b[39;00m re\u001b[38;5;241m.\u001b[39msearch(re_abba, hypernet)\n",
      "\u001b[0;31mValueError\u001b[0m: too many values to unpack (expected 3)"
     ]
    }
   ],
   "source": [
    "re_abba = r'[a-z]*([a-z])(?!\\1)([a-z])\\2\\1[a-z]*'\n",
    "# this matches any number of chars, an ABBA pattern, then any number of chars\n",
    "\n",
    "def supports_tls(ip):\n",
    "    print(ip)\n",
    "    ip1, hypernet, ip2 = re.split('\\W+', ip)\n",
    "    ip_valid = re.search(re_abba, ip1) or re.search(re_abba, ip2)\n",
    "    hypernet_valid = not re.search(re_abba, hypernet)\n",
    "    return ip_valid and hypernet_valid\n",
    "\n",
    "assert supports_tls('abba[mnop]qrst')\n",
    "assert not supports_tls('abcd[bddb]xyyx')\n",
    "assert not supports_tls('aaaa[qwer]tyui')\n",
    "assert supports_tls('ioxxoj[asdfgh]zxcvbn')\n",
    "\n",
    "sum([1 for ip in inp if supports_tls(ip)])"
   ]
  },
  {
   "cell_type": "markdown",
   "id": "5c4559d9-3285-442d-90ca-54fbfaec6397",
   "metadata": {},
   "source": [
    "Turns out I misread, the question. There can be any number of hypernet sequences in the ip address. Back to the drawing board."
   ]
  },
  {
   "cell_type": "code",
   "execution_count": 6,
   "id": "f430bf4e-c865-43b1-a55d-c0108daebe7f",
   "metadata": {},
   "outputs": [
    {
     "data": {
      "text/plain": [
       "105"
      ]
     },
     "execution_count": 6,
     "metadata": {},
     "output_type": "execute_result"
    }
   ],
   "source": [
    "def supports_tls(ip):\n",
    "    sections = re.split('\\W+', ip)\n",
    "    # this isn't an ideal solution, but I'm going to assume every second section is a hypernet\n",
    "    ip_sections = sections[::2]\n",
    "    hypernet_sections = sections[1::2]\n",
    "    ip_valid = any(re.search(re_abba, ip_s) for ip_s in ip_sections)\n",
    "    hypernet_valid = not any(re.search(re_abba, ht_s) for ht_s in hypernet_sections)\n",
    "    return ip_valid and hypernet_valid\n",
    "\n",
    "    \n",
    "assert supports_tls('abba[mnop]qrst')\n",
    "assert not supports_tls('abcd[bddb]xyyx')\n",
    "assert not supports_tls('aaaa[qwer]tyui')\n",
    "assert supports_tls('ioxxoj[asdfgh]zxcvbn')    \n",
    "\n",
    "def part1(possible_ips):\n",
    "    return sum(map(supports_tls, possible_ips))\n",
    "\n",
    "part1(inp)"
   ]
  },
  {
   "cell_type": "markdown",
   "id": "7a3e5be8-04d1-4cdf-9cf4-ae267853ee62",
   "metadata": {},
   "source": [
    "## Part 2:\n",
    "Now there's a new thing to match, SSL:\n",
    ">An IP supports SSL if it has an Area-Broadcast Accessor, or ABA, anywhere in the supernet sequences (outside any square bracketed sections), and a corresponding Byte Allocation Block, or BAB, anywhere in the hypernet sequences. An ABA is any three-character sequence which consists of the same character twice with a different character between them, such as xyx or aba. A corresponding BAB is the same characters but in reversed positions: yxy and bab, respectively.\n",
    "\n",
    "I forgot that it's possible to have multiple hypernet sequences for a minute and thought this was easy. Basically we have to get all the possible ABA values, then check if any corresponding BAB values exist in the hypernet sequences. I had real trouble coming up with a regex I could use to get the ABA values to check. `search` just returns the one, and when I used `findall` I kept getting just the letter `z`. Grouping everything I wanted then grouping all the groups is what I ended up with."
   ]
  },
  {
   "cell_type": "code",
   "execution_count": 7,
   "id": "9832ea57-5be1-4611-b4f0-cac482b6f19a",
   "metadata": {},
   "outputs": [
    {
     "data": {
      "text/plain": [
       "[('z', 'a', 'z'), ('z', 'b', 'z')]"
      ]
     },
     "execution_count": 7,
     "metadata": {},
     "output_type": "execute_result"
    }
   ],
   "source": [
    "ex = 'zazbz'\n",
    "re_aba = r'(?=([a-z])(?!\\1)([a-z])(\\1))'\n",
    "re.findall(re_aba, ex)"
   ]
  },
  {
   "cell_type": "code",
   "execution_count": 18,
   "id": "631b0820-262e-4faf-8b71-7807b204a352",
   "metadata": {},
   "outputs": [
    {
     "data": {
      "text/plain": [
       "258"
      ]
     },
     "execution_count": 18,
     "metadata": {},
     "output_type": "execute_result"
    }
   ],
   "source": [
    "def bab(aba):\n",
    "    a, b, _ = aba\n",
    "    return b + a + b\n",
    "\n",
    "def contains_bab(bab_l, hypernet_s):\n",
    "    return any(bab in hypernet_s for bab in bab_l)\n",
    "\n",
    "def supports_ssl(ip):\n",
    "    # we get the sections in the same way\n",
    "    sections = re.split('\\W+', ip)\n",
    "    ip_sections = sections[::2]\n",
    "    hypernet_sections = sections[1::2]\n",
    "    # first get all the ABAs in the ip_sections\n",
    "    aba_l = list(chain(*[re.findall(re_aba, ip_s) for ip_s in ip_sections]))\n",
    "    # generate the BABs from the ABAs\n",
    "    bab_l = list(map(bab, aba_l))\n",
    "    # check if any of the BABs are in the hypernet_sections\n",
    "    valid_hypernet = any(contains_bab(bab_l, hypernet_s) for hypernet_s in hypernet_sections)\n",
    "    return valid_hypernet\n",
    "\n",
    "assert supports_ssl('aba[bab]xyz')\n",
    "assert not supports_ssl('xyx[xyx]xyx')\n",
    "assert supports_ssl('aaa[kek]eke')\n",
    "assert supports_ssl('zazbz[bzb]cdb')\n",
    "assert supports_ssl('neakzsrjrhvixwp[ydbbvlckobfkgbandud]xdynfcpsooblftf[wzyquuvtwnjjrjbuhj]yxlpiloirianyrkzfqe')\n",
    "\n",
    "def part2(possible_ips):\n",
    "    return sum(map(supports_ssl, possible_ips))\n",
    "\n",
    "part2(inp)"
   ]
  },
  {
   "cell_type": "markdown",
   "id": "2e2b9141-b1ae-4327-99e7-32988143c7be",
   "metadata": {},
   "source": [
    "That took longer than expected, mostly due to a bug with this line: `bab_l = list(map(bab, aba_l))`. I'd originally left out the list conversion, which gave me "
   ]
  }
 ],
 "metadata": {
  "kernelspec": {
   "display_name": "Python 3 (ipykernel)",
   "language": "python",
   "name": "python3"
  },
  "language_info": {
   "codemirror_mode": {
    "name": "ipython",
    "version": 3
   },
   "file_extension": ".py",
   "mimetype": "text/x-python",
   "name": "python",
   "nbconvert_exporter": "python",
   "pygments_lexer": "ipython3",
   "version": "3.9.12"
  }
 },
 "nbformat": 4,
 "nbformat_minor": 5
}
