{
 "cells": [
  {
   "cell_type": "markdown",
   "id": "1e43dc6c-a70c-462f-b906-483d905f5026",
   "metadata": {},
   "source": [
    "# Day 8: Two-Factor Authentication\n",
    "\n",
    "## Part 1:\n",
    "> The magnetic strip on the card you swiped encodes a series of instructions for the screen; these instructions are your puzzle input. The screen is 50 pixels wide and 6 pixels tall, all of which start off, and is capable of three somewhat peculiar operations:\n",
    "\n",
    "> rect AxB turns on all of the pixels in a rectangle at the top-left of the screen which is A wide and B tall.\n",
    "\n",
    "> rotate row y=A by B shifts all of the pixels in row A (0 is the top row) right by B pixels. Pixels that would fall off the right end appear at the left end of the row.\n",
    "\n",
    "> rotate column x=A by B shifts all of the pixels in column A (0 is the left column) down by B pixels. Pixels that would fall off the bottom appear at the top of the column."
   ]
  },
  {
   "cell_type": "code",
   "execution_count": 1,
   "id": "290d4841-b902-4298-9eeb-936e6b6734e0",
   "metadata": {},
   "outputs": [
    {
     "name": "stdout",
     "output_type": "stream",
     "text": [
      "[('rect', '1x1'), ('rotate', 'row', 'y=0', 'by', '5'), ('rect', '1x1'), ('rotate', 'row', 'y=0', 'by', '5')]\n"
     ]
    }
   ],
   "source": [
    "from utils import *\n",
    "\n",
    "inp = read_input_as_tuples('day8')\n",
    "head(inp)\n"
   ]
  },
  {
   "cell_type": "markdown",
   "id": "83324c22-f958-4173-ba08-5552d00175f9",
   "metadata": {},
   "source": [
    "I'd like to do this with an approach that uses some functions from the `itertools` library for these functions:"
   ]
  },
  {
   "cell_type": "code",
   "execution_count": 29,
   "id": "71954f7a-8954-47ae-974e-6b6582327842",
   "metadata": {},
   "outputs": [
    {
     "data": {
      "text/plain": [
       "[['.', '#', '.', '.', '#', '.', '#'],\n",
       " ['#', '.', '#', '.', '.', '.', '.'],\n",
       " ['.', '#', '.', '.', '.', '.', '.']]"
      ]
     },
     "execution_count": 29,
     "metadata": {},
     "output_type": "execute_result"
    }
   ],
   "source": [
    "def generate_grid(width, height):\n",
    "    return [ ['.'] * width for i in range(height)]\n",
    "\n",
    "def rect(grid, width, height):\n",
    "    for i in range(height):\n",
    "        for j in range(width):\n",
    "            grid[i][j] = '#'\n",
    "\n",
    "def rotate(l, n):\n",
    "    return list(islice(cycle(l[::-1]), n, n + len(l)))[::-1]\n",
    "            \n",
    "def rotate_row(grid, i, n): # 99% sure there's a better way of doing the below\n",
    "    grid[i] = rotate(grid[i], n)\n",
    "\n",
    "def rotate_col(grid, i, n):\n",
    "    col = [row[i] for row in grid]\n",
    "    col = iter(rotate(col, n))\n",
    "    for row in grid:\n",
    "        row[i] = next(col)         \n",
    "        \n",
    "g = generate_grid(7, 3)\n",
    "rect(g, 3, 2) \n",
    "rotate_col(g, 1, 1)\n",
    "rotate_row(g, 0, 4)\n",
    "rotate_col(g, 1, 1)\n",
    "g"
   ]
  },
  {
   "cell_type": "code",
   "execution_count": 39,
   "id": "049ebfd2-8984-40b0-b7a4-a49d75bb468d",
   "metadata": {},
   "outputs": [
    {
     "data": {
      "text/plain": [
       "106"
      ]
     },
     "execution_count": 39,
     "metadata": {},
     "output_type": "execute_result"
    }
   ],
   "source": [
    "def parse_instruction(grid, parts):\n",
    "    if parts[0] == 'rect':\n",
    "        width, height = parts[1].split('x')\n",
    "        rect(grid, int(width), int(height))\n",
    "    elif parts[0] == 'rotate' and parts[1] == 'row':\n",
    "        rotate_row(grid, int(parts[2][2:]), int(parts[4]))\n",
    "    elif parts[0] == 'rotate' and parts[1] == 'column':\n",
    "        rotate_col(grid, int(parts[2][2:]), int(parts[4]))\n",
    "                   \n",
    "    \n",
    "def part1(instructions):\n",
    "    grid = generate_grid(50, 6)\n",
    "    for instruction in instructions:\n",
    "        parse_instruction(grid, instruction)\n",
    "    # count the lit parts, wanted to use itertools again...\n",
    "    lit = sum(map(lambda c: c == '#', chain(*grid)))\n",
    "    return lit\n",
    "\n",
    "part1(inp)"
   ]
  },
  {
   "cell_type": "markdown",
   "id": "251a9148-1a91-4c6b-99fd-f0475f53fccb",
   "metadata": {},
   "source": [
    "## Part 2:\n",
    "\n",
    "> You notice that the screen is only capable of displaying capital letters; in the font it uses, each letter is 5 pixels wide and 6 tall.\n",
    "\n",
    "Seems a fairly easy part 2, we just need to pretty print the list from part 1."
   ]
  },
  {
   "cell_type": "code",
   "execution_count": 42,
   "id": "83821eb2-4175-4abb-a662-350759aa184b",
   "metadata": {},
   "outputs": [
    {
     "name": "stdout",
     "output_type": "stream",
     "text": [
      ".##..####.#....####.#.....##..#...#####..##...###.\n",
      "#..#.#....#....#....#....#..#.#...##....#..#.#....\n",
      "#....###..#....###..#....#..#..#.#.###..#....#....\n",
      "#....#....#....#....#....#..#...#..#....#.....##..\n",
      "#..#.#....#....#....#....#..#...#..#....#..#....#.\n",
      ".##..#....####.####.####..##....#..#.....##..###..\n"
     ]
    }
   ],
   "source": [
    "def part2(instructions):\n",
    "    grid = generate_grid(50, 6)\n",
    "    for instruction in instructions:\n",
    "        parse_instruction(grid, instruction)\n",
    "    for row in grid:\n",
    "        print(cat(row))\n",
    "\n",
    "part2(inp)"
   ]
  }
 ],
 "metadata": {
  "kernelspec": {
   "display_name": "Python 3 (ipykernel)",
   "language": "python",
   "name": "python3"
  },
  "language_info": {
   "codemirror_mode": {
    "name": "ipython",
    "version": 3
   },
   "file_extension": ".py",
   "mimetype": "text/x-python",
   "name": "python",
   "nbconvert_exporter": "python",
   "pygments_lexer": "ipython3",
   "version": "3.9.12"
  }
 },
 "nbformat": 4,
 "nbformat_minor": 5
}
