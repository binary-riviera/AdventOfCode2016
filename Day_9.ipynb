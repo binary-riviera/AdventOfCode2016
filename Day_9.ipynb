{
 "cells": [
  {
   "cell_type": "markdown",
   "id": "3a43cbd2-c60a-4209-9aa0-49d68a905e74",
   "metadata": {},
   "source": [
    "# Day 9: Explosives in Cyberspace\n",
    "\n",
    "> The format compresses a sequence of characters. Whitespace is ignored. To indicate that some sequence should be repeated, a marker is added to the file, like (10x2). To decompress this marker, take the subsequent 10 characters and repeat them 2 times. Then, continue reading the file after the repeated data. The marker itself is not included in the decompressed output.\n",
    "\n",
    "> If parentheses or other characters appear within the data referenced by a marker, that's okay - treat it like normal data, not a marker, and then resume looking for markers after the decompressed section.\n",
    "\n",
    "## Part 1\n",
    "\n",
    "And we have to find the decompressed length of the file. I guess the sensible thing to do is to write a generator that returns the uncompressed data, so if part 2 needs to know the details of what's being uncompressed, we can easily get it."
   ]
  },
  {
   "cell_type": "code",
   "execution_count": 1,
   "id": "7c864cb3-da31-4ad3-9f93-445f3e352eee",
   "metadata": {},
   "outputs": [
    {
     "name": "stdout",
     "output_type": "stream",
     "text": [
      "(6x6\n"
     ]
    }
   ],
   "source": [
    "from utils import *\n",
    "\n",
    "inp = read_input_as_file('day9')\n",
    "inp = inp.readline()\n",
    "head(inp)"
   ]
  },
  {
   "cell_type": "markdown",
   "id": "7cc23c94-3d0f-45a1-a9f0-bb0da2efd4cf",
   "metadata": {},
   "source": [
    "To convert a string to an iterator, which we'd like for the generator, we need to do the following:"
   ]
  },
  {
   "cell_type": "code",
   "execution_count": 2,
   "id": "130b54e5-205f-4981-852e-724e96f22034",
   "metadata": {},
   "outputs": [],
   "source": [
    "inp_iter = inp.__iter__()"
   ]
  },
  {
   "cell_type": "markdown",
   "id": "e2d98d9c-2d23-462e-9ae9-d7a683e937f1",
   "metadata": {},
   "source": [
    "Which would make the decompression function:"
   ]
  },
  {
   "cell_type": "code",
   "execution_count": 3,
   "id": "5c23b6bb-f4ae-4e42-9677-65c8615699ba",
   "metadata": {},
   "outputs": [
    {
     "data": {
      "text/plain": [
       "150914"
      ]
     },
     "execution_count": 3,
     "metadata": {},
     "output_type": "execute_result"
    }
   ],
   "source": [
    "def decode_marker(s: iter):\n",
    "    c1 = int(cat(takewhile(lambda c: c != 'x', s)))\n",
    "    c2 = int(cat(takewhile(lambda c: c != ')', s)))\n",
    "    return c1, c2\n",
    "\n",
    "assert decode_marker('10x2)'.__iter__()) == (10, 2)\n",
    "assert decode_marker('987123x1324234)'.__iter__()) == (987123, 1324234)\n",
    "\n",
    "    \n",
    "\n",
    "def decompress(s: str):\n",
    "    s = s.__iter__()\n",
    "    length = 0\n",
    "    while True:\n",
    "        c = next(s, 'end')\n",
    "        if c == 'end':\n",
    "            break\n",
    "        if c == '(':\n",
    "            (l, times) = decode_marker(s)\n",
    "            _ = list(islice(s, l)) # take `l` chars\n",
    "            # we only care about the length...\n",
    "            length += (l * times)\n",
    "        else:\n",
    "            length += 1\n",
    "    return length\n",
    "            \n",
    "assert decompress('A(1x5)BC') == 7\n",
    "assert decompress('X(8x2)(3x3)ABCY') == 18\n",
    "\n",
    "decompress(inp)"
   ]
  },
  {
   "cell_type": "markdown",
   "id": "2468eefe-d942-4c34-a736-974e46259c05",
   "metadata": {},
   "source": [
    "Correct! The only real issue in this part was that islice doesn't actually consume the chars unless I tell it to using `list`. I think there's probably a better function for this use case.\n",
    "\n",
    "## Part 2\n",
    "\n",
    "> In version two, the only difference is that markers within decompressed data are decompressed.\n",
    "\n",
    "The question also says:\n",
    "\n",
    "> Unfortunately, the computer you brought probably doesn't have enough memory to actually decompress the file; you'll have to come up with another way to get its decompressed length.\n",
    "\n",
    "This is an easy part 2, we just need to make the decompress function recursive."
   ]
  },
  {
   "cell_type": "code",
   "execution_count": 4,
   "id": "54090967-644e-48e0-97c4-19095d301678",
   "metadata": {},
   "outputs": [],
   "source": [
    "def decompress(s: str):\n",
    "    s = s.__iter__()\n",
    "    length = 0\n",
    "    while True:\n",
    "        c = next(s, 'end')\n",
    "        if c == 'end':\n",
    "            break\n",
    "        if c == '(':\n",
    "            (l, times) = decode_marker(s)\n",
    "            chars = list(islice(s, l)) # take `l` chars\n",
    "            # instead of l being the length, we will use the decoded length of `chars`\n",
    "            length += (decompress(chars) * times)\n",
    "        else:\n",
    "            length += 1\n",
    "    return length"
   ]
  },
  {
   "cell_type": "code",
   "execution_count": 11,
   "id": "57422404-ac7d-4736-809f-bc78e247d6de",
   "metadata": {},
   "outputs": [],
   "source": [
    "assert decompress('(3x3)XYZ') == 9\n",
    "assert decompress('X(8x2)(3x3)ABCY') == 20\n",
    "assert decompress('(27x12)(20x12)(13x14)(7x10)(1x12)A') == 241920\n",
    "assert decompress('(25x3)(3x3)ABC(2x3)XY(5x2)PQRSTX(18x9)(3x2)TWO(5x7)SEVEN') == 445"
   ]
  },
  {
   "cell_type": "code",
   "execution_count": 12,
   "id": "01723cee-0828-41be-9dac-5c270c5f2e15",
   "metadata": {},
   "outputs": [
    {
     "data": {
      "text/plain": [
       "11052855125"
      ]
     },
     "execution_count": 12,
     "metadata": {},
     "output_type": "execute_result"
    }
   ],
   "source": [
    "decompress(inp)"
   ]
  }
 ],
 "metadata": {
  "kernelspec": {
   "display_name": "Python 3 (ipykernel)",
   "language": "python",
   "name": "python3"
  },
  "language_info": {
   "codemirror_mode": {
    "name": "ipython",
    "version": 3
   },
   "file_extension": ".py",
   "mimetype": "text/x-python",
   "name": "python",
   "nbconvert_exporter": "python",
   "pygments_lexer": "ipython3",
   "version": "3.9.12"
  }
 },
 "nbformat": 4,
 "nbformat_minor": 5
}
